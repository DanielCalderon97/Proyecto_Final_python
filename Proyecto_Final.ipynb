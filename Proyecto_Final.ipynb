{
 "cells": [
  {
   "cell_type": "markdown",
   "metadata": {},
   "source": [
    "# Ciencia de Datos en Python"
   ]
  },
  {
   "cell_type": "markdown",
   "metadata": {},
   "source": [
    "#### Daniel Calderón - 24000152\n",
    "#### Marvinn de la Cruz Estrada - 21003348\n",
    "#### Gabriela Aldana - 20010049"
   ]
  },
  {
   "cell_type": "code",
   "execution_count": null,
   "metadata": {},
   "outputs": [],
   "source": [
    "import numpy as np\n",
    "import pandas as pd\n",
    "import matplotlib.pyplot as plt\n",
    "import seaborn as sns \n"
   ]
  },
  {
   "cell_type": "code",
   "execution_count": 37,
   "metadata": {},
   "outputs": [
    {
     "name": "stdout",
     "output_type": "stream",
     "text": [
      "DataFrame original:\n",
      "   SalePrice  OverallQual  1stFlrSF  TotRmsAbvGrd  YearBuilt  LotFrontage\n",
      "0   208500.0          7.0     856.0           8.0     2003.0         65.0\n",
      "1   181500.0          6.0    1262.0           6.0     1976.0         80.0\n",
      "2   223500.0          7.0     920.0           6.0     2001.0         68.0\n",
      "3   140000.0          7.0     961.0           7.0     1915.0         60.0\n",
      "4   250000.0          8.0    1145.0           9.0     2000.0         84.0\n",
      "\n",
      "Tamaños después de la división:\n",
      "Entrenamiento: 1168 filas\n",
      "Validación/Pruebas: 292 filas\n"
     ]
    }
   ],
   "source": [
    "import numpy as np\n",
    "import pandas as pd\n",
    "\n",
    "# 1. Cargar los datos desde el archivo .npy\n",
    "data = np.load('proyecto_training_data.npy')\n",
    "\n",
    "# 2. Definir los nombres de las columnas\n",
    "columnas = ['SalePrice', 'OverallQual', '1stFlrSF', 'TotRmsAbvGrd', 'YearBuilt', 'LotFrontage']\n",
    "\n",
    "# 3. Convertir a DataFrame de Pandas (directamente con los nombres de columnas)\n",
    "df = pd.DataFrame(data, columns=columnas)\n",
    "\n",
    "# 4. Mostrar el DataFrame para verificar\n",
    "print(\"DataFrame original:\")\n",
    "print(df.head())\n",
    "\n",
    "# 5. Mezclar los datos (para evitar sesgos en la división)\n",
    "df = df.sample(frac=1, random_state=42).reset_index(drop=True)\n",
    "\n",
    "# 6. Calcular el punto de corte (80% entrenamiento, 20% validación/pruebas)\n",
    "total_filas = df.shape[0]\n",
    "entrenamiento_corte = int(0.8 * total_filas)  # ¡Usar int() para índices!\n",
    "\n",
    "# 7. Dividir los datos usando slicing\n",
    "entrenamiento = df.iloc[:entrenamiento_corte]  # Primeras 80% filas\n",
    "validacion_pruebas = df.iloc[entrenamiento_corte:]  # Últimas 20% filas\n",
    "\n",
    "# 8. Verificar los tamaños\n",
    "print(\"\\nTamaños después de la división:\")\n",
    "print(f\"Entrenamiento: {entrenamiento.shape[0]} filas\")\n",
    "print(f\"Validación/Pruebas: {validacion_pruebas.shape[0]} filas\")\n",
    "\n",
    "# 9. Opcional: Guardar los datasets en nuevos archivos\n",
    "entrenamiento.to_csv('entrenamiento.csv', index=False)\n",
    "validacion_pruebas.to_csv('validacion_pruebas.csv', index=False)"
   ]
  }
 ],
 "metadata": {
  "kernelspec": {
   "display_name": "venv_proy_a",
   "language": "python",
   "name": "python3"
  },
  "language_info": {
   "codemirror_mode": {
    "name": "ipython",
    "version": 3
   },
   "file_extension": ".py",
   "mimetype": "text/x-python",
   "name": "python",
   "nbconvert_exporter": "python",
   "pygments_lexer": "ipython3",
   "version": "3.12.9"
  }
 },
 "nbformat": 4,
 "nbformat_minor": 2
}
